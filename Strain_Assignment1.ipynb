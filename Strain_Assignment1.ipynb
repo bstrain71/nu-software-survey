{
  "nbformat": 4,
  "nbformat_minor": 0,
  "metadata": {
    "kernelspec": {
      "display_name": "Python 3",
      "language": "python",
      "name": "python3"
    },
    "language_info": {
      "codemirror_mode": {
        "name": "ipython",
        "version": 3
      },
      "file_extension": ".py",
      "mimetype": "text/x-python",
      "name": "python",
      "nbconvert_exporter": "python",
      "pygments_lexer": "ipython3",
      "version": "3.7.3"
    },
    "colab": {
      "name": "Strain_Assignment1.ipynb",
      "provenance": [],
      "include_colab_link": true
    }
  },
  "cells": [
    {
      "cell_type": "markdown",
      "metadata": {
        "id": "view-in-github",
        "colab_type": "text"
      },
      "source": [
        "<a href=\"https://colab.research.google.com/github/bstrain71/nu-software-survey/blob/master/Strain_Assignment1.ipynb\" target=\"_parent\"><img src=\"https://colab.research.google.com/assets/colab-badge.svg\" alt=\"Open In Colab\"/></a>"
      ]
    },
    {
      "cell_type": "markdown",
      "metadata": {
        "id": "xnZFODHILBZV",
        "colab_type": "text"
      },
      "source": [
        "## Ingest"
      ]
    },
    {
      "cell_type": "code",
      "metadata": {
        "id": "5zO-zse4oJ6y",
        "colab_type": "code",
        "colab": {}
      },
      "source": [
        "import pandas as pd  # data frame operations  \n",
        "import numpy as np  # arrays and math functions\n",
        "import matplotlib.pyplot as plt  # static plotting\n",
        "import seaborn as sns  # pretty plotting, including heat map\n",
        "\n",
        "import warnings; warnings.simplefilter('ignore') # supress depreciation warnings\n",
        "\n",
        "# correlation heat map setup for seaborn\n",
        "def corr_chart(df_corr):\n",
        "    corr=df_corr.corr()\n",
        "    #screen top half to get a triangle\n",
        "    top = np.zeros_like(corr, dtype=np.bool)\n",
        "    top[np.triu_indices_from(top)] = True\n",
        "    fig=plt.figure()\n",
        "    fig, ax = plt.subplots(figsize=(12,12))\n",
        "    sns.heatmap(corr, mask=top, cmap='coolwarm', \n",
        "        center = 0, square=True, \n",
        "        linewidths=.5, cbar_kws={'shrink':.5}, \n",
        "        annot = True, annot_kws={'size': 9}, fmt = '.3f')           \n",
        "    plt.xticks(rotation=45) # rotate variable labels on columns (x axis)\n",
        "    plt.yticks(rotation=0) # use horizontal variable labels on rows (y axis)\n",
        "    plt.title('Correlation Heat Map')   \n",
        "    plt.savefig('plot-corr-map.pdf', \n",
        "        bbox_inches = 'tight', dpi=None, facecolor='w', edgecolor='b', \n",
        "        orientation='portrait', papertype=None, format=None, \n",
        "        transparent=True, pad_inches=0.25, frameon=None)      \n",
        "\n",
        "np.set_printoptions(precision=3)\n",
        "\n",
        "\n",
        "# read in comma-delimited text file, creating a pandas DataFrame object\n",
        "# note that IPAddress is formatted as an actual IP address\n",
        "# but is actually a random-hash of the original IP address\n",
        "valid_survey_input = pd.read_csv(\"https://raw.githubusercontent.com/bstrain71/nu-software-survey/master/mspa-survey-data.csv\")\n",
        "\n",
        "# use the RespondentID as label for the rows... the index of DataFrame\n",
        "valid_survey_input.set_index('RespondentID', drop = True, inplace = True)\n",
        "\n",
        "# examine the structure of the DataFrame object\n",
        "# print('\\nContents of initial survey data ---------------')\n",
        "\n",
        "# could use len() or first index of shape() to get number of rows/observations\n",
        "# print('\\nNumber of Respondents =', len(valid_survey_input)) \n",
        "\n",
        "# show the column/variable names of the DataFrame\n",
        "# note that RespondentID is no longer present\n",
        "#print(valid_survey_input.columns)\n",
        "\n",
        "# abbreviated printing of the first five rows of the data frame\n",
        "#print(pd.DataFrame.head(valid_survey_input)) "
      ],
      "execution_count": 0,
      "outputs": []
    },
    {
      "cell_type": "code",
      "metadata": {
        "id": "1akK3XHqoJ68",
        "colab_type": "code",
        "colab": {}
      },
      "source": [
        "# shorten the variable/column names for software preference variables\n",
        "survey_df = valid_survey_input.rename(index=str, columns={\n",
        "    'Personal_JavaScalaSpark': 'My_Java',\n",
        "    'Personal_JavaScriptHTMLCSS': 'My_JS',\n",
        "    'Personal_Python': 'My_Python',\n",
        "    'Personal_R': 'My_R',\n",
        "    'Personal_SAS': 'My_SAS',\n",
        "    'Professional_JavaScalaSpark': 'Prof_Java',\n",
        "    'Professional_JavaScriptHTMLCSS': 'Prof_JS',\n",
        "    'Professional_Python': 'Prof_Python',\n",
        "    'Professional_R': 'Prof_R',\n",
        "    'Professional_SAS': 'Prof_SAS',\n",
        "    'Industry_JavaScalaSpark': 'Ind_Java',\n",
        "    'Industry_JavaScriptHTMLCSS': 'Ind_JS',\n",
        "    'Industry_Python': 'Ind_Python',\n",
        "    'Industry_R': 'Ind_R',\n",
        "    'Industry_SAS': 'Ind_SAS'})\n",
        "    "
      ],
      "execution_count": 0,
      "outputs": []
    },
    {
      "cell_type": "markdown",
      "metadata": {
        "id": "3ok0LttyLG76",
        "colab_type": "text"
      },
      "source": [
        "## EDA"
      ]
    },
    {
      "cell_type": "code",
      "metadata": {
        "id": "yM_9gfePoJ7E",
        "colab_type": "code",
        "outputId": "e3024c69-890d-4d4b-ca97-7f967453694f",
        "colab": {
          "base_uri": "https://localhost:8080/",
          "height": 320
        }
      },
      "source": [
        "pd.DataFrame.describe(survey_df)\n"
      ],
      "execution_count": 42,
      "outputs": [
        {
          "output_type": "execute_result",
          "data": {
            "text/html": [
              "<div>\n",
              "<style scoped>\n",
              "    .dataframe tbody tr th:only-of-type {\n",
              "        vertical-align: middle;\n",
              "    }\n",
              "\n",
              "    .dataframe tbody tr th {\n",
              "        vertical-align: top;\n",
              "    }\n",
              "\n",
              "    .dataframe thead th {\n",
              "        text-align: right;\n",
              "    }\n",
              "</style>\n",
              "<table border=\"1\" class=\"dataframe\">\n",
              "  <thead>\n",
              "    <tr style=\"text-align: right;\">\n",
              "      <th></th>\n",
              "      <th>My_Java</th>\n",
              "      <th>My_JS</th>\n",
              "      <th>My_Python</th>\n",
              "      <th>My_R</th>\n",
              "      <th>My_SAS</th>\n",
              "      <th>Prof_Java</th>\n",
              "      <th>Prof_JS</th>\n",
              "      <th>Prof_Python</th>\n",
              "      <th>Prof_R</th>\n",
              "      <th>Prof_SAS</th>\n",
              "      <th>Ind_Java</th>\n",
              "      <th>Ind_JS</th>\n",
              "      <th>Ind_Python</th>\n",
              "      <th>Ind_R</th>\n",
              "      <th>Ind_SAS</th>\n",
              "      <th>Python_Course_Interest</th>\n",
              "      <th>Foundations_DE_Course_Interest</th>\n",
              "      <th>Analytics_App_Course_Interest</th>\n",
              "      <th>Systems_Analysis_Course_Interest</th>\n",
              "      <th>Courses_Completed</th>\n",
              "    </tr>\n",
              "  </thead>\n",
              "  <tbody>\n",
              "    <tr>\n",
              "      <th>count</th>\n",
              "      <td>207.000000</td>\n",
              "      <td>207.000000</td>\n",
              "      <td>207.000000</td>\n",
              "      <td>207.000000</td>\n",
              "      <td>207.000000</td>\n",
              "      <td>207.000000</td>\n",
              "      <td>207.000000</td>\n",
              "      <td>207.000000</td>\n",
              "      <td>207.000000</td>\n",
              "      <td>207.000000</td>\n",
              "      <td>207.000000</td>\n",
              "      <td>207.000000</td>\n",
              "      <td>207.000000</td>\n",
              "      <td>207.000000</td>\n",
              "      <td>207.000000</td>\n",
              "      <td>206.000000</td>\n",
              "      <td>200.000000</td>\n",
              "      <td>203.000000</td>\n",
              "      <td>200.000000</td>\n",
              "      <td>187.000000</td>\n",
              "    </tr>\n",
              "    <tr>\n",
              "      <th>mean</th>\n",
              "      <td>10.135266</td>\n",
              "      <td>4.797101</td>\n",
              "      <td>31.304348</td>\n",
              "      <td>37.125604</td>\n",
              "      <td>16.637681</td>\n",
              "      <td>9.251208</td>\n",
              "      <td>5.840580</td>\n",
              "      <td>30.028986</td>\n",
              "      <td>36.415459</td>\n",
              "      <td>18.463768</td>\n",
              "      <td>11.942029</td>\n",
              "      <td>6.966184</td>\n",
              "      <td>29.772947</td>\n",
              "      <td>32.434783</td>\n",
              "      <td>18.884058</td>\n",
              "      <td>73.529126</td>\n",
              "      <td>58.045000</td>\n",
              "      <td>55.201970</td>\n",
              "      <td>53.630000</td>\n",
              "      <td>6.342246</td>\n",
              "    </tr>\n",
              "    <tr>\n",
              "      <th>std</th>\n",
              "      <td>11.383477</td>\n",
              "      <td>6.757764</td>\n",
              "      <td>15.570982</td>\n",
              "      <td>14.576003</td>\n",
              "      <td>13.626400</td>\n",
              "      <td>13.167505</td>\n",
              "      <td>10.812555</td>\n",
              "      <td>19.144802</td>\n",
              "      <td>20.847606</td>\n",
              "      <td>18.831841</td>\n",
              "      <td>14.706399</td>\n",
              "      <td>10.030721</td>\n",
              "      <td>17.959816</td>\n",
              "      <td>15.912209</td>\n",
              "      <td>19.137623</td>\n",
              "      <td>29.835429</td>\n",
              "      <td>32.588079</td>\n",
              "      <td>34.147954</td>\n",
              "      <td>33.539493</td>\n",
              "      <td>3.170849</td>\n",
              "    </tr>\n",
              "    <tr>\n",
              "      <th>min</th>\n",
              "      <td>0.000000</td>\n",
              "      <td>0.000000</td>\n",
              "      <td>0.000000</td>\n",
              "      <td>0.000000</td>\n",
              "      <td>0.000000</td>\n",
              "      <td>0.000000</td>\n",
              "      <td>0.000000</td>\n",
              "      <td>0.000000</td>\n",
              "      <td>0.000000</td>\n",
              "      <td>0.000000</td>\n",
              "      <td>0.000000</td>\n",
              "      <td>0.000000</td>\n",
              "      <td>0.000000</td>\n",
              "      <td>0.000000</td>\n",
              "      <td>0.000000</td>\n",
              "      <td>0.000000</td>\n",
              "      <td>0.000000</td>\n",
              "      <td>0.000000</td>\n",
              "      <td>0.000000</td>\n",
              "      <td>1.000000</td>\n",
              "    </tr>\n",
              "    <tr>\n",
              "      <th>25%</th>\n",
              "      <td>0.000000</td>\n",
              "      <td>0.000000</td>\n",
              "      <td>20.000000</td>\n",
              "      <td>30.000000</td>\n",
              "      <td>5.000000</td>\n",
              "      <td>0.000000</td>\n",
              "      <td>0.000000</td>\n",
              "      <td>20.000000</td>\n",
              "      <td>25.000000</td>\n",
              "      <td>0.000000</td>\n",
              "      <td>0.000000</td>\n",
              "      <td>0.000000</td>\n",
              "      <td>20.000000</td>\n",
              "      <td>22.500000</td>\n",
              "      <td>0.000000</td>\n",
              "      <td>53.000000</td>\n",
              "      <td>29.500000</td>\n",
              "      <td>25.000000</td>\n",
              "      <td>21.500000</td>\n",
              "      <td>4.000000</td>\n",
              "    </tr>\n",
              "    <tr>\n",
              "      <th>50%</th>\n",
              "      <td>9.000000</td>\n",
              "      <td>0.000000</td>\n",
              "      <td>30.000000</td>\n",
              "      <td>35.000000</td>\n",
              "      <td>15.000000</td>\n",
              "      <td>5.000000</td>\n",
              "      <td>0.000000</td>\n",
              "      <td>30.000000</td>\n",
              "      <td>33.000000</td>\n",
              "      <td>15.000000</td>\n",
              "      <td>5.000000</td>\n",
              "      <td>0.000000</td>\n",
              "      <td>30.000000</td>\n",
              "      <td>30.000000</td>\n",
              "      <td>15.000000</td>\n",
              "      <td>82.500000</td>\n",
              "      <td>60.000000</td>\n",
              "      <td>60.000000</td>\n",
              "      <td>51.500000</td>\n",
              "      <td>6.000000</td>\n",
              "    </tr>\n",
              "    <tr>\n",
              "      <th>75%</th>\n",
              "      <td>20.000000</td>\n",
              "      <td>10.000000</td>\n",
              "      <td>40.000000</td>\n",
              "      <td>50.000000</td>\n",
              "      <td>25.000000</td>\n",
              "      <td>15.000000</td>\n",
              "      <td>10.000000</td>\n",
              "      <td>40.000000</td>\n",
              "      <td>50.000000</td>\n",
              "      <td>30.000000</td>\n",
              "      <td>20.000000</td>\n",
              "      <td>10.000000</td>\n",
              "      <td>40.000000</td>\n",
              "      <td>40.000000</td>\n",
              "      <td>30.000000</td>\n",
              "      <td>100.000000</td>\n",
              "      <td>89.250000</td>\n",
              "      <td>85.000000</td>\n",
              "      <td>80.250000</td>\n",
              "      <td>9.000000</td>\n",
              "    </tr>\n",
              "    <tr>\n",
              "      <th>max</th>\n",
              "      <td>70.000000</td>\n",
              "      <td>30.000000</td>\n",
              "      <td>90.000000</td>\n",
              "      <td>100.000000</td>\n",
              "      <td>75.000000</td>\n",
              "      <td>80.000000</td>\n",
              "      <td>100.000000</td>\n",
              "      <td>100.000000</td>\n",
              "      <td>100.000000</td>\n",
              "      <td>100.000000</td>\n",
              "      <td>70.000000</td>\n",
              "      <td>50.000000</td>\n",
              "      <td>95.000000</td>\n",
              "      <td>85.000000</td>\n",
              "      <td>100.000000</td>\n",
              "      <td>100.000000</td>\n",
              "      <td>100.000000</td>\n",
              "      <td>100.000000</td>\n",
              "      <td>100.000000</td>\n",
              "      <td>12.000000</td>\n",
              "    </tr>\n",
              "  </tbody>\n",
              "</table>\n",
              "</div>"
            ],
            "text/plain": [
              "          My_Java  ...  Courses_Completed\n",
              "count  207.000000  ...         187.000000\n",
              "mean    10.135266  ...           6.342246\n",
              "std     11.383477  ...           3.170849\n",
              "min      0.000000  ...           1.000000\n",
              "25%      0.000000  ...           4.000000\n",
              "50%      9.000000  ...           6.000000\n",
              "75%     20.000000  ...           9.000000\n",
              "max     70.000000  ...          12.000000\n",
              "\n",
              "[8 rows x 20 columns]"
            ]
          },
          "metadata": {
            "tags": []
          },
          "execution_count": 42
        }
      ]
    },
    {
      "cell_type": "code",
      "metadata": {
        "id": "AqsMOFnzbwmm",
        "colab_type": "code",
        "colab": {
          "base_uri": "https://localhost:8080/",
          "height": 112
        },
        "outputId": "e87ff683-1977-4067-9bd3-a6f7559ff734"
      },
      "source": [
        "survey_df[['My_Python','My_R']].corr(method = 'pearson')\n",
        "\n"
      ],
      "execution_count": 49,
      "outputs": [
        {
          "output_type": "execute_result",
          "data": {
            "text/html": [
              "<div>\n",
              "<style scoped>\n",
              "    .dataframe tbody tr th:only-of-type {\n",
              "        vertical-align: middle;\n",
              "    }\n",
              "\n",
              "    .dataframe tbody tr th {\n",
              "        vertical-align: top;\n",
              "    }\n",
              "\n",
              "    .dataframe thead th {\n",
              "        text-align: right;\n",
              "    }\n",
              "</style>\n",
              "<table border=\"1\" class=\"dataframe\">\n",
              "  <thead>\n",
              "    <tr style=\"text-align: right;\">\n",
              "      <th></th>\n",
              "      <th>My_Python</th>\n",
              "      <th>My_R</th>\n",
              "    </tr>\n",
              "  </thead>\n",
              "  <tbody>\n",
              "    <tr>\n",
              "      <th>My_Python</th>\n",
              "      <td>1.000000</td>\n",
              "      <td>-0.374659</td>\n",
              "    </tr>\n",
              "    <tr>\n",
              "      <th>My_R</th>\n",
              "      <td>-0.374659</td>\n",
              "      <td>1.000000</td>\n",
              "    </tr>\n",
              "  </tbody>\n",
              "</table>\n",
              "</div>"
            ],
            "text/plain": [
              "           My_Python      My_R\n",
              "My_Python   1.000000 -0.374659\n",
              "My_R       -0.374659  1.000000"
            ]
          },
          "metadata": {
            "tags": []
          },
          "execution_count": 49
        }
      ]
    },
    {
      "cell_type": "code",
      "metadata": {
        "id": "z966vLeffOwJ",
        "colab_type": "code",
        "colab": {
          "base_uri": "https://localhost:8080/",
          "height": 112
        },
        "outputId": "30eacfed-6c8d-4e0a-830a-9aabf018c78b"
      },
      "source": [
        "survey_df[['Prof_Python','Prof_R']].corr(method = 'pearson')\n"
      ],
      "execution_count": 50,
      "outputs": [
        {
          "output_type": "execute_result",
          "data": {
            "text/html": [
              "<div>\n",
              "<style scoped>\n",
              "    .dataframe tbody tr th:only-of-type {\n",
              "        vertical-align: middle;\n",
              "    }\n",
              "\n",
              "    .dataframe tbody tr th {\n",
              "        vertical-align: top;\n",
              "    }\n",
              "\n",
              "    .dataframe thead th {\n",
              "        text-align: right;\n",
              "    }\n",
              "</style>\n",
              "<table border=\"1\" class=\"dataframe\">\n",
              "  <thead>\n",
              "    <tr style=\"text-align: right;\">\n",
              "      <th></th>\n",
              "      <th>Prof_Python</th>\n",
              "      <th>Prof_R</th>\n",
              "    </tr>\n",
              "  </thead>\n",
              "  <tbody>\n",
              "    <tr>\n",
              "      <th>Prof_Python</th>\n",
              "      <td>1.000000</td>\n",
              "      <td>-0.362159</td>\n",
              "    </tr>\n",
              "    <tr>\n",
              "      <th>Prof_R</th>\n",
              "      <td>-0.362159</td>\n",
              "      <td>1.000000</td>\n",
              "    </tr>\n",
              "  </tbody>\n",
              "</table>\n",
              "</div>"
            ],
            "text/plain": [
              "             Prof_Python    Prof_R\n",
              "Prof_Python     1.000000 -0.362159\n",
              "Prof_R         -0.362159  1.000000"
            ]
          },
          "metadata": {
            "tags": []
          },
          "execution_count": 50
        }
      ]
    },
    {
      "cell_type": "code",
      "metadata": {
        "id": "4PFmHIpRfPKq",
        "colab_type": "code",
        "colab": {
          "base_uri": "https://localhost:8080/",
          "height": 112
        },
        "outputId": "d804033d-64cc-40f6-d677-86b9e808525c"
      },
      "source": [
        "survey_df[['Ind_Python','Ind_R']].corr(method = 'pearson')\n"
      ],
      "execution_count": 51,
      "outputs": [
        {
          "output_type": "execute_result",
          "data": {
            "text/html": [
              "<div>\n",
              "<style scoped>\n",
              "    .dataframe tbody tr th:only-of-type {\n",
              "        vertical-align: middle;\n",
              "    }\n",
              "\n",
              "    .dataframe tbody tr th {\n",
              "        vertical-align: top;\n",
              "    }\n",
              "\n",
              "    .dataframe thead th {\n",
              "        text-align: right;\n",
              "    }\n",
              "</style>\n",
              "<table border=\"1\" class=\"dataframe\">\n",
              "  <thead>\n",
              "    <tr style=\"text-align: right;\">\n",
              "      <th></th>\n",
              "      <th>Ind_Python</th>\n",
              "      <th>Ind_R</th>\n",
              "    </tr>\n",
              "  </thead>\n",
              "  <tbody>\n",
              "    <tr>\n",
              "      <th>Ind_Python</th>\n",
              "      <td>1.00000</td>\n",
              "      <td>-0.20461</td>\n",
              "    </tr>\n",
              "    <tr>\n",
              "      <th>Ind_R</th>\n",
              "      <td>-0.20461</td>\n",
              "      <td>1.00000</td>\n",
              "    </tr>\n",
              "  </tbody>\n",
              "</table>\n",
              "</div>"
            ],
            "text/plain": [
              "            Ind_Python    Ind_R\n",
              "Ind_Python     1.00000 -0.20461\n",
              "Ind_R         -0.20461  1.00000"
            ]
          },
          "metadata": {
            "tags": []
          },
          "execution_count": 51
        }
      ]
    },
    {
      "cell_type": "code",
      "metadata": {
        "id": "KAc8UuPyoJ7M",
        "colab_type": "code",
        "outputId": "3845cb42-5348-45bd-b232-95a5c4b52b92",
        "colab": {
          "base_uri": "https://localhost:8080/",
          "height": 851
        }
      },
      "source": [
        "                     \n",
        "# R vs Python\n",
        "fig, axis = plt.subplots()\n",
        "axis.set_xlabel('Desire to Learn R')\n",
        "axis.set_ylabel('Desire to Learn Python')\n",
        "plt.title('Desire to Learn R or Python | Correlation -0.37')\n",
        "\n",
        "# plot of personal desire to learn\n",
        "scatter_plot = axis.scatter(\n",
        "    survey_df['My_R'] + np.random.normal(-2, 2,\n",
        "                                         len(survey_df['My_R'])), \n",
        "    survey_df['My_Python'] + np.random.normal(-2, 2,\n",
        "                                              len(survey_df['My_Python'])),\n",
        "    facecolors = 'none', \n",
        "    edgecolors = 'blue')\n",
        "\n",
        "# plot of professional need\n",
        "fig, axis = plt.subplots()\n",
        "axis.set_xlabel('Professional Need to Learn R')\n",
        "axis.set_ylabel('Professional Need to Learn Python')\n",
        "plt.title('Professional Need to Learn R or Python | Correlation -0.36')\n",
        "\n",
        "scatter_plot = axis.scatter(\n",
        "    survey_df['Prof_R'] + np.random.normal(-2, 2,\n",
        "                                         len(survey_df['Prof_R'])), \n",
        "    survey_df['Prof_Python'] + np.random.normal(-2, 2,\n",
        "                                              len(survey_df['Prof_Python'])),\n",
        "    facecolors = 'none', \n",
        "    edgecolors = 'red') \n",
        "\n",
        "# plot of industry importance\n",
        "fig, axis = plt.subplots()\n",
        "axis.set_xlabel('Industry Importance of Learning R')\n",
        "axis.set_ylabel('Industry Importance of Learning Python')\n",
        "plt.title('Industry Importance of Learning R or Python | Correlation -0.20')\n",
        "\n",
        "scatter_plot = axis.scatter(\n",
        "    survey_df['Ind_R'] + np.random.normal(-2, 2,\n",
        "                                         len(survey_df['Ind_R'])), \n",
        "    survey_df['Ind_Python'] + np.random.normal(-2, 2,\n",
        "                                              len(survey_df['Ind_Python'])),\n",
        "    facecolors = 'none', \n",
        "    edgecolors = 'green') \n"
      ],
      "execution_count": 57,
      "outputs": [
        {
          "output_type": "display_data",
          "data": {
            "image/png": "[encoded data removed]",
            "text/plain": [
              "<Figure size 432x288 with 1 Axes>"
            ]
          },
          "metadata": {
            "tags": []
          }
        },
        {
          "output_type": "display_data",
          "data": {
            "image/png": "[encoded data removed]",
            "text/plain": [
              "<Figure size 432x288 with 1 Axes>"
            ]
          },
          "metadata": {
            "tags": []
          }
        },
        {
          "output_type": "display_data",
          "data": {
            "image/png": "[encoded data removed]",
            "text/plain": [
              "<Figure size 432x288 with 1 Axes>"
            ]
          },
          "metadata": {
            "tags": []
          }
        }
      ]
    },
    {
      "cell_type": "markdown",
      "metadata": {
        "id": "O_784b0WjxsA",
        "colab_type": "text"
      },
      "source": [
        "Scale the preference variables to see if the correlation changes."
      ]
    },
    {
      "cell_type": "code",
      "metadata": {
        "id": "ZfGE77ezhn9L",
        "colab_type": "code",
        "colab": {}
      },
      "source": [
        "survey_df['My_R_binary'] = np.where(survey_df['My_R']>=50, 1, 0)\n",
        "survey_df['My_Python_binary'] = np.where(survey_df['My_Python']>=50, 1, 0)\n",
        "survey_df['Prof_R_binary'] = np.where(survey_df['Prof_R']>=50, 1, 0)\n",
        "survey_df['Prof_Python_binary'] = np.where(survey_df['Prof_Python']>=50, 1, 0)\n",
        "survey_df['Ind_R_binary'] = np.where(survey_df['Ind_R']>=50, 1, 0)\n",
        "survey_df['Ind_Python_binary'] = np.where(survey_df['Ind_Python']>=50, 1, 0)"
      ],
      "execution_count": 0,
      "outputs": []
    },
    {
      "cell_type": "markdown",
      "metadata": {
        "id": "uYllZpfpj1hh",
        "colab_type": "text"
      },
      "source": [
        "Calculate new correlations."
      ]
    },
    {
      "cell_type": "code",
      "metadata": {
        "id": "giOv11dUj1Tx",
        "colab_type": "code",
        "colab": {
          "base_uri": "https://localhost:8080/",
          "height": 112
        },
        "outputId": "e91ef3bf-0740-4bc3-b724-c864827685c0"
      },
      "source": [
        "survey_df[['My_Python_binary','My_R_binary']].corr(method = 'pearson')"
      ],
      "execution_count": 59,
      "outputs": [
        {
          "output_type": "execute_result",
          "data": {
            "text/html": [
              "<div>\n",
              "<style scoped>\n",
              "    .dataframe tbody tr th:only-of-type {\n",
              "        vertical-align: middle;\n",
              "    }\n",
              "\n",
              "    .dataframe tbody tr th {\n",
              "        vertical-align: top;\n",
              "    }\n",
              "\n",
              "    .dataframe thead th {\n",
              "        text-align: right;\n",
              "    }\n",
              "</style>\n",
              "<table border=\"1\" class=\"dataframe\">\n",
              "  <thead>\n",
              "    <tr style=\"text-align: right;\">\n",
              "      <th></th>\n",
              "      <th>My_Python_binary</th>\n",
              "      <th>My_R_binary</th>\n",
              "    </tr>\n",
              "  </thead>\n",
              "  <tbody>\n",
              "    <tr>\n",
              "      <th>My_Python_binary</th>\n",
              "      <td>1.000000</td>\n",
              "      <td>0.015054</td>\n",
              "    </tr>\n",
              "    <tr>\n",
              "      <th>My_R_binary</th>\n",
              "      <td>0.015054</td>\n",
              "      <td>1.000000</td>\n",
              "    </tr>\n",
              "  </tbody>\n",
              "</table>\n",
              "</div>"
            ],
            "text/plain": [
              "                  My_Python_binary  My_R_binary\n",
              "My_Python_binary          1.000000     0.015054\n",
              "My_R_binary               0.015054     1.000000"
            ]
          },
          "metadata": {
            "tags": []
          },
          "execution_count": 59
        }
      ]
    },
    {
      "cell_type": "code",
      "metadata": {
        "id": "Oupe7ERZj-k4",
        "colab_type": "code",
        "colab": {
          "base_uri": "https://localhost:8080/",
          "height": 112
        },
        "outputId": "cce21b99-e49f-4dde-b62f-3d4e529af59a"
      },
      "source": [
        "survey_df[['Prof_Python_binary','Prof_R_binary']].corr(method = 'pearson')"
      ],
      "execution_count": 60,
      "outputs": [
        {
          "output_type": "execute_result",
          "data": {
            "text/html": [
              "<div>\n",
              "<style scoped>\n",
              "    .dataframe tbody tr th:only-of-type {\n",
              "        vertical-align: middle;\n",
              "    }\n",
              "\n",
              "    .dataframe tbody tr th {\n",
              "        vertical-align: top;\n",
              "    }\n",
              "\n",
              "    .dataframe thead th {\n",
              "        text-align: right;\n",
              "    }\n",
              "</style>\n",
              "<table border=\"1\" class=\"dataframe\">\n",
              "  <thead>\n",
              "    <tr style=\"text-align: right;\">\n",
              "      <th></th>\n",
              "      <th>Prof_Python_binary</th>\n",
              "      <th>Prof_R_binary</th>\n",
              "    </tr>\n",
              "  </thead>\n",
              "  <tbody>\n",
              "    <tr>\n",
              "      <th>Prof_Python_binary</th>\n",
              "      <td>1.000000</td>\n",
              "      <td>-0.002505</td>\n",
              "    </tr>\n",
              "    <tr>\n",
              "      <th>Prof_R_binary</th>\n",
              "      <td>-0.002505</td>\n",
              "      <td>1.000000</td>\n",
              "    </tr>\n",
              "  </tbody>\n",
              "</table>\n",
              "</div>"
            ],
            "text/plain": [
              "                    Prof_Python_binary  Prof_R_binary\n",
              "Prof_Python_binary            1.000000      -0.002505\n",
              "Prof_R_binary                -0.002505       1.000000"
            ]
          },
          "metadata": {
            "tags": []
          },
          "execution_count": 60
        }
      ]
    },
    {
      "cell_type": "code",
      "metadata": {
        "id": "P7E09UM_kDFh",
        "colab_type": "code",
        "colab": {
          "base_uri": "https://localhost:8080/",
          "height": 112
        },
        "outputId": "6e68f390-bca8-494f-b4c1-5d2d8b6fec6c"
      },
      "source": [
        "survey_df[['Ind_Python_binary','Ind_R_binary']].corr(method = 'pearson')"
      ],
      "execution_count": 61,
      "outputs": [
        {
          "output_type": "execute_result",
          "data": {
            "text/html": [
              "<div>\n",
              "<style scoped>\n",
              "    .dataframe tbody tr th:only-of-type {\n",
              "        vertical-align: middle;\n",
              "    }\n",
              "\n",
              "    .dataframe tbody tr th {\n",
              "        vertical-align: top;\n",
              "    }\n",
              "\n",
              "    .dataframe thead th {\n",
              "        text-align: right;\n",
              "    }\n",
              "</style>\n",
              "<table border=\"1\" class=\"dataframe\">\n",
              "  <thead>\n",
              "    <tr style=\"text-align: right;\">\n",
              "      <th></th>\n",
              "      <th>Ind_Python_binary</th>\n",
              "      <th>Ind_R_binary</th>\n",
              "    </tr>\n",
              "  </thead>\n",
              "  <tbody>\n",
              "    <tr>\n",
              "      <th>Ind_Python_binary</th>\n",
              "      <td>1.000000</td>\n",
              "      <td>-0.022828</td>\n",
              "    </tr>\n",
              "    <tr>\n",
              "      <th>Ind_R_binary</th>\n",
              "      <td>-0.022828</td>\n",
              "      <td>1.000000</td>\n",
              "    </tr>\n",
              "  </tbody>\n",
              "</table>\n",
              "</div>"
            ],
            "text/plain": [
              "                   Ind_Python_binary  Ind_R_binary\n",
              "Ind_Python_binary           1.000000     -0.022828\n",
              "Ind_R_binary               -0.022828      1.000000"
            ]
          },
          "metadata": {
            "tags": []
          },
          "execution_count": 61
        }
      ]
    }
  ]
}